{
 "cells": [
  {
   "cell_type": "markdown",
   "id": "ca8cb771",
   "metadata": {},
   "source": [
    "---\n",
    "title: \"Report - Policing Equity in 2016\"\n",
    "output: html_document\n",
    "date: 'Apr 26, 2022'\n",
    "editor_options: \n",
    "  markdown: \n",
    "    wrap: 72\n",
    "---\n",
    "\n",
    "MA304 - Exploratory Data Analysis and Data Visualisation\n",
    "\n",
    "#### Usama Akram - 2103163"
   ]
  },
  {
   "cell_type": "code",
   "execution_count": null,
   "id": "68a002cf",
   "metadata": {},
   "outputs": [],
   "source": [
    "%%R\n",
    "# Adding all the libraries\n",
    "library(ggplot2)\n",
    "library(plotly)\n",
    "library(dplyr)\n",
    "library(htmlwidgets)\n",
    "library(tidyverse)\n",
    "library(ggrepel)\n",
    "library(lubridate)\n",
    "library(rstudioapi)\n",
    "library(ggmap)\n",
    "library(maps)\n",
    "library(ggridges)\n",
    "library(gridExtra)\n",
    "library(shiny)\n",
    "library(leaflet)\n",
    "library(treemapify)\n",
    "library(sf)\n",
    "library(calendR)\n",
    "library(gganimate)\n",
    "library(hrbrthemes)\n",
    "library(ggpubr)\n",
    "library(shiny)"
   ]
  },
  {
   "cell_type": "code",
   "execution_count": null,
   "id": "f2220478",
   "metadata": {},
   "outputs": [],
   "source": [
    "%%R\n",
    "policing_data <- read.csv(\"./37-00049_UOF-P_2016_prepped.csv\") # reading policing data\n",
    "head(policing_data) ## printing first 5 lines of our data"
   ]
  },
  {
   "cell_type": "markdown",
   "id": "77c445a2",
   "metadata": {},
   "source": [
    "##### Data Pre-processing & structuring"
   ]
  },
  {
   "cell_type": "code",
   "execution_count": null,
   "id": "105b10ce",
   "metadata": {},
   "outputs": [],
   "source": [
    "%%R\n",
    "# firstly removing complete extra row of column where we have extra headings\n",
    "policing_data = policing_data[-1,] # removing row which we don't want in our dataset to be\n",
    "policing_data = policing_data[complete.cases(policing_data),] # completing missing cases\n",
    "# replacing all the null values in the whole data set\n",
    "# other than that including unknown and american ind to others\n",
    "policing_data <- policing_data %>% replace(.==\"NULL\", \"Other\")\n",
    "policing_data <- policing_data %>% replace(.==\"Unknown\", \"Other\")\n",
    "policing_data <- policing_data %>% replace(.==\"American Ind\", \"Other\")"
   ]
  },
  {
   "cell_type": "code",
   "execution_count": null,
   "id": "1231898d",
   "metadata": {},
   "outputs": [],
   "source": [
    "%%R\n",
    "dim(policing_data) # 2384 rows and 47 cols"
   ]
  },
  {
   "cell_type": "code",
   "execution_count": null,
   "id": "e2eea1de",
   "metadata": {},
   "outputs": [],
   "source": [
    "%%R\n",
    "cat(str(policing_data))"
   ]
  },
  {
   "cell_type": "code",
   "execution_count": null,
   "id": "b2b4ea74",
   "metadata": {},
   "outputs": [],
   "source": [
    "%%R\n",
    "# as all of our data is characteristic so can't check summary but still i will try\n",
    "cat(summary(policing_data))"
   ]
  },
  {
   "cell_type": "markdown",
   "id": "16fa2f91",
   "metadata": {},
   "source": [
    "### Summary about the analyses and visualizations\n",
    "\n",
    "This project shows different visualizations and analysis of the dataset\n",
    "about policing equity in 2016 through different factors. This dataset\n",
    "has 2383 rows and 47 columns where different results have been concluded\n",
    "racially and it has been checked that how different crimes have happened\n",
    "throughout the year through which police department can learn and grow\n",
    "accordingly. All of the key findings from the project are defined below\n",
    "where I have concluded different entities from the dataset with their\n",
    "properties or characteristics:\n",
    "\n",
    "| Entities | Characteristics/Features                                                                                                                        |\n",
    "|------------------------------------|------------------------------------|\n",
    "| Incident | (date, time, reason)                                                                                                                            |\n",
    "| Officer  | (ID, Gender, Race, Hire_Date, Years_on_Force, Injury, Injury_Type, Hospitalization)                                                             |\n",
    "| Subject  | (ID, Race, Gender, Injury, Injury_Type, Was_Arrested, Description, Offense)                                                                     |\n",
    "| Street   | (Number, Name, Directions, Type)                                                                                                                |\n",
    "| Location | (Reporting_Area, Sactor, Division, District, Full_street_address, City, State, Latitude, Longitutde,)                                           |\n",
    "| Force    | (Reason, type1, type2, type3, type4, type5, type6, type7, type8, type9, type10, effectiveness, EC_Cycles, UOF_number(use_of_force_number),Beat) |\n",
    "\n",
    "These entities will be used to assess different visualization to make\n",
    "more safety in public and to inform law makers that how they are acting\n",
    "about different equities. Using these entities I have made different\n",
    "relations and have concluded different analysis and conclusions from\n",
    "them which are different visualizations of level 7 interactively, or\n",
    "animated graphs shown below. Now on compare we can found out how these\n",
    "entities are affecting each other and how we can utilize their\n",
    "information to find out un-justice or racism."
   ]
  },
  {
   "cell_type": "code",
   "execution_count": null,
   "id": "9f5db899",
   "metadata": {},
   "outputs": [],
   "source": [
    "%%R\n",
    "attach(policing_data) # attaching our data to use in the whole dataset"
   ]
  },
  {
   "cell_type": "markdown",
   "id": "c49efb57",
   "metadata": {},
   "source": [
    "### Racial and Gender Proportions"
   ]
  },
  {
   "cell_type": "code",
   "execution_count": null,
   "id": "2676fe67",
   "metadata": {},
   "outputs": [],
   "source": [
    "%%R\n",
    "## computing OFFICER Gender proportions\n",
    "o_gender_2 <- as.data.frame(table(OFFICER_GENDER)) %>% mutate(csum = rev(cumsum(rev(Freq))), pos = Freq/2 + lead(csum, 1),\n",
    "                                                              pos = if_else(is.na(pos), Freq/2, pos))\n",
    "\n",
    "off_gender <- ggplot(as.data.frame(table(OFFICER_GENDER)), aes(x = \"\" , y = Freq, fill = fct_inorder(OFFICER_GENDER))) +\n",
    "  geom_col(width = 1, color = 1) + coord_polar(theta = \"y\") + scale_fill_brewer(palette = \"Pastel1\") +\n",
    "  geom_label_repel(data = o_gender_2, aes(y = pos, label = paste0(Freq)),\n",
    "                   size = 4.5, nudge_x = 1, show.legend = FALSE) +\n",
    "  guides(fill = guide_legend(title = \"Gender count for the subjects\")) + theme_void()"
   ]
  },
  {
   "cell_type": "code",
   "execution_count": null,
   "id": "e43be878",
   "metadata": {},
   "outputs": [],
   "source": [
    "%%R\n",
    "## computing OFFICER Race proportions\n",
    "o_race_2 <- as.data.frame(table(OFFICER_RACE)) %>% mutate(csum = rev(cumsum(rev(Freq))), pos = Freq/2 + lead(csum, 1),\n",
    "                                                          pos = if_else(is.na(pos), Freq/2, pos))\n",
    "\n",
    "off_race <- ggplot(as.data.frame(table(OFFICER_RACE)), aes(x = \"\" , y = Freq, fill = fct_inorder(OFFICER_RACE))) +\n",
    "  geom_col(width = 1, color = 1) + coord_polar(theta = \"y\") + scale_fill_brewer(palette = \"Pastel1\") +\n",
    "  geom_label_repel(data = o_race_2, aes(y = pos, label = paste0(Freq)),\n",
    "                   size = 4.5, nudge_x = 1, show.legend = FALSE) +\n",
    "  guides(fill = guide_legend(title = \"Racial count for the subjects\")) + theme_void()"
   ]
  },
  {
   "cell_type": "code",
   "execution_count": null,
   "id": "5fa80a43",
   "metadata": {},
   "outputs": [],
   "source": [
    "%%R\n",
    "## computing SUBJECT Gender proportions\n",
    "s_gender_2 <- as.data.frame(table(SUBJECT_GENDER)) %>% mutate(csum = rev(cumsum(rev(Freq))), pos = Freq/2 + lead(csum, 1),\n",
    "                                                              pos = if_else(is.na(pos), Freq/2, pos))\n",
    "\n",
    "sub_gender <- ggplot(as.data.frame(table(SUBJECT_GENDER)), aes(x = \"\" , y = Freq, fill = fct_inorder(SUBJECT_GENDER))) +\n",
    "  geom_col(width = 1, color = 1) + coord_polar(theta = \"y\") + scale_fill_brewer(palette = \"Pastel1\") +\n",
    "  geom_label_repel(data = s_gender_2, aes(y = pos, label = paste0(Freq)),\n",
    "                   size = 4.5, nudge_x = 1, show.legend = FALSE) +\n",
    "  guides(fill = guide_legend(title = \"Gender count for the subjects\")) + theme_void()"
   ]
  },
  {
   "cell_type": "code",
   "execution_count": null,
   "id": "7dfd8ec0",
   "metadata": {},
   "outputs": [],
   "source": [
    "%%R\n",
    "## computing SUBJECT Race proportions\n",
    "s_race_2 <- as.data.frame(table(SUBJECT_RACE)) %>% mutate(csum = rev(cumsum(rev(Freq))), pos = Freq/2 + lead(csum, 1),\n",
    "                                                          pos = if_else(is.na(pos), Freq/2, pos))\n",
    "\n",
    "sub_race <- ggplot(as.data.frame(table(SUBJECT_RACE)), aes(x = \"\" , y = Freq, fill = fct_inorder(SUBJECT_RACE))) +\n",
    "  geom_col(width = 1, color = 1) + coord_polar(theta = \"y\") + scale_fill_brewer(palette = \"Pastel1\") +\n",
    "  geom_label_repel(data = s_race_2, aes(y = pos, label = paste0(Freq)),\n",
    "                   size = 4.5, nudge_x = 1, show.legend = FALSE) +\n",
    "  guides(fill = guide_legend(title = \"Racial count for the subjects\")) + theme_void()"
   ]
  },
  {
   "cell_type": "code",
   "execution_count": null,
   "id": "dcca5db0",
   "metadata": {},
   "outputs": [],
   "source": [
    "%%R\n",
    "ggarrange(off_gender, off_race, sub_gender, sub_race, labels = c(\"Officers Gender Proportions\", \"Officers Races Proportions\", \n",
    "                                                                 \"Subject Gender Proportions\", \"Subject Races Proportions\"),ncol = 2, nrow = 2)"
   ]
  },
  {
   "cell_type": "code",
   "execution_count": null,
   "id": "70322dd5",
   "metadata": {},
   "outputs": [],
   "source": [
    "%%R\n",
    "fig <- plot_ly()\n",
    "fig <- fig %>% add_pie(data = as.data.frame(table(OFFICER_GENDER)), labels = ~OFFICER_GENDER, values = ~Freq, textinfo='label+percent',\n",
    "                         name = \"Gender\", domain = list(row = 0, column = 0))\n",
    "fig <- fig %>% add_pie(data = as.data.frame(table(OFFICER_RACE)), labels = ~OFFICER_RACE, values = ~Freq, textinfo='label+percent',\n",
    "                         name = \"Race\", domain = list(row = 0, column = 1))\n",
    "fig <- fig %>% add_pie(data = as.data.frame(table(SUBJECT_GENDER)), labels = ~SUBJECT_GENDER, values = ~Freq, textinfo='label+percent',\n",
    "                         name = \"Gender\", domain = list(row = 1, column = 0))\n",
    "fig <- fig %>% add_pie(data = as.data.frame(table(SUBJECT_RACE)), labels = ~SUBJECT_RACE, values = ~Freq, textinfo='label+percent',\n",
    "                         name = \"Race\", domain = list(row = 1, column = 1))\n",
    "fig <- fig %>% layout(title = \"Officers Top, Subjects Down (Gender and Racial) Proportions\", showlegend = F, grid=list(rows=2, columns=2),\n",
    "                      xaxis = list(showgrid = FALSE, zeroline = FALSE, showticklabels = FALSE),\n",
    "                      yaxis = list(showgrid = FALSE, zeroline = FALSE, showticklabels = FALSE))\n",
    "fig"
   ]
  },
  {
   "cell_type": "markdown",
   "id": "e90af913",
   "metadata": {},
   "source": [
    "Checking officer and subject gender and race from which clearly have\n",
    "concluded that male are covering maximum of the proportion from both\n",
    "sides which is around **80%** of the population. Other officers are **White, Hispanic and Black** \n",
    "covering **61%, 20%, 14%** of the whole population\n",
    "accordingly whereas subject races are **Black, Hispanic, and White**\n",
    "covering the **55%, 21% and 19%** of the whole population accordingly.\n",
    "\n",
    "### Different Actions Against Subject"
   ]
  },
  {
   "cell_type": "code",
   "execution_count": null,
   "id": "6e870be0",
   "metadata": {},
   "outputs": [],
   "source": [
    "%%R\n",
    "#### Merging Accidental Discharge to others\n",
    "policing_data <- policing_data %>% replace(.==\"Accidental Discharge\", \"Other\")\n",
    "incidents_race <- policing_data[SUBJECT_RACE == 'Black' | SUBJECT_RACE == 'Hispanic' | SUBJECT_RACE == 'White',]\n",
    "\n",
    "actions <- ggplot(incidents_race, aes(x = INCIDENT_REASON, fill = SUBJECT_RACE)) + \n",
    "  geom_bar() + coord_flip() + labs(title = \"Actions take place against Subjects Racials\", x = \"Actions Types\", y= \"Total Count with Racial Facet\")\n",
    "ggplotly(actions)"
   ]
  },
  {
   "cell_type": "code",
   "execution_count": null,
   "id": "319399f1",
   "metadata": {},
   "outputs": [],
   "source": [
    "%%R\n",
    "races_and_actions <- as.data.frame(table(incidents_race$INCIDENT_REASON, incidents_race$SUBJECT_RACE))\n",
    "names(races_and_actions)[names(races_and_actions) == \"Var1\"] <- \"Reason\"\n",
    "names(races_and_actions)[names(races_and_actions) == \"Var2\"] <- \"Gender\"\n",
    "p <- ggplot(races_and_actions, aes(weight=Freq))+theme_bw()\n",
    "cs <- p+aes(Reason)+geom_bar(fill=\"#af8dc3\")+coord_flip()+facet_wrap(~Gender)+\n",
    "      labs(title = \"Actions take place against Subjects Racials\", x = \"Actions Types\", y= \"Total Count with Racial Facet\")\n",
    "\n",
    "ggplotly(cs, tooltip = c(\"count\", \"Reason\"))"
   ]
  },
  {
   "cell_type": "code",
   "execution_count": null,
   "id": "af4ee95e",
   "metadata": {},
   "outputs": [],
   "source": [
    "%%R\n",
    "arrested_racials <- as.data.frame( round(100 *prop.table(table(incidents_race$SUBJECT_WAS_ARRESTED, incidents_race$SUBJECT_RACE)),1) )\n",
    "names(arrested_racials)[names(arrested_racials) == \"Var1\"] <- \"Arrested\"\n",
    "names(arrested_racials)[names(arrested_racials) == \"Var2\"] <- \"Race\"\n",
    "names(arrested_racials)[names(arrested_racials) == \"Freq\"] <- \"Percentage\"\n",
    "p <- ggplot(arrested_racials, aes(weight= Percentage))+theme_bw()\n",
    "cs <- p+aes(Arrested)+geom_bar(fill=\"#af8dc3\")+coord_flip()+facet_wrap(~Race) +\n",
    "    labs(title = \"Subjects Races got Arrested over the year\", x = \"Arrested/Not Arrested (Yes/No)\", y= \"Total Count with Racial Facet\")\n",
    "\n",
    "ggplotly(cs, tooltip = c(\"Percentage\", \"Arrested\"))"
   ]
  },
  {
   "cell_type": "code",
   "execution_count": null,
   "id": "ae1453c9",
   "metadata": {},
   "outputs": [],
   "source": [
    "%%R\n",
    "round(100 * prop.table(table(incidents_race$INCIDENT_REASON)),1)"
   ]
  },
  {
   "cell_type": "markdown",
   "id": "3fcad6d8",
   "metadata": {},
   "source": [
    "These analyses shows that most of the actions which taken place were\n",
    "*arrest, service call, Call for cover, traffic stop, and crime in\n",
    "progress* were covering around **48%, 28.4%, 5.5%, 3.9% and 3.4%** of the\n",
    "total crimes where different races got affected by it. Black subjects\n",
    "got **arrested, service call, traffic stop and call for cover** a lot.\n",
    "Black, Hispanic and white arrested around **673, 244 and 215** of the\n",
    "total crimes. Then so on service call was distributed around **360, 161 and 140**\n",
    "between **Black, White and Hispanic**.\n",
    "\n",
    "### Officers Races Caught Subject Races"
   ]
  },
  {
   "cell_type": "code",
   "execution_count": null,
   "id": "ef2db03d",
   "metadata": {},
   "outputs": [],
   "source": [
    "%%R\n",
    "selected_races <- policing_data[SUBJECT_RACE == 'Black' | SUBJECT_RACE == 'Hispanic' | SUBJECT_RACE == 'White',]\n",
    "races_caught <- as.data.frame(table(selected_races$OFFICER_RACE, selected_races$SUBJECT_RACE))\n",
    "names(races_caught)[names(races_caught) == \"Var1\"] <- \"Officer_Race\"\n",
    "names(races_caught)[names(races_caught) == \"Var2\"] <- \"Subject_Race\"\n",
    "names(races_caught)[names(races_caught) == \"Freq\"] <- \"Count\"\n",
    "p <- ggplot(races_caught, aes(weight=Count))+ylab(\"\")+theme_bw()\n",
    "cs <- p+aes(Officer_Race)+geom_bar(fill=\"#af8dc3\")+coord_flip()+facet_wrap(~Subject_Race)+ \n",
    "  labs(title = \"Checking which Races of Officers caught which type of subjects\", x = \"Officers Races\", y= \"Count of Subject Races Caught by Officers\")\n",
    "\n",
    "ggplotly(cs, tooltip = c(\"Officer_Race\", \"Count\"))"
   ]
  },
  {
   "cell_type": "code",
   "execution_count": null,
   "id": "cc2e4f88",
   "metadata": {},
   "outputs": [],
   "source": [
    "%%R\n",
    "races_caught_others <- as.data.frame(round(100 * prop.table(table(selected_races$OFFICER_RACE, selected_races$SUBJECT_RACE)),1))\n",
    "names(races_caught_others)[names(races_caught_others) == \"Var1\"] <- \"Officer_Race\"\n",
    "names(races_caught_others)[names(races_caught_others) == \"Freq\"] <- \"Percentage\"\n",
    "races_caught_others %>%\n",
    "  group_by(Officer_Race) %>%\n",
    "  summarize(Total_Percentage = sum(Percentage))"
   ]
  },
  {
   "cell_type": "markdown",
   "id": "1aed5fe9",
   "metadata": {},
   "source": [
    "After seeing these analysis I checked that how different races of Officers are impacting other races of Subjects. In 2016\n",
    "__61.7% Black, Hispanic and White people get caught by White people__. Out of this percentage, White caught around __673 Black__, __302 Hispanic__ and __277 White__ subjects. __Hispanics and Black__ caught people with the percentage of __20.3% and 14.1%__ where __Hispanic caught 230 Black__ and __Black officers caught 201 Black subjects__.\n",
    "\n",
    "\n",
    "### Crimes through out the year over Calendar"
   ]
  },
  {
   "cell_type": "code",
   "execution_count": null,
   "id": "ed3eed8d",
   "metadata": {},
   "outputs": [],
   "source": [
    "%%R\n",
    "incident_dates <- policing_data %>% arrange(desc(mdy(INCIDENT_DATE))) %>% select(INCIDENT_DATE)\n",
    "incidents_by_month <- as.data.frame(table(incident_dates$INCIDENT_DATE))\n",
    "for(i in 1:12) incidents_by_month <- incidents_by_month %>% add_row(Freq = 0) ### as we have only 353 days out of one year so filling remaining days with zero crimes\n",
    "\n",
    "calendR(year = 2017,\n",
    "        special.days = incidents_by_month$Freq,\n",
    "        gradient = TRUE,\n",
    "        low.col = \"#FCFFDD\",\n",
    "        special.col = \"#00AAAE\",\n",
    "        legend.pos = \"right\",\n",
    "        legend.title = \"Number of Incidents\",\n",
    "        title = \"Policy Equiting 2016\")"
   ]
  },
  {
   "cell_type": "markdown",
   "id": "c2fb8fe3",
   "metadata": {},
   "source": [
    "![optional caption text](Pictures/Calendar.png){height=\"800\" width=100% }\n",
    "Plotting the calendar for the year to see that how many crimes has happened through out the year. Where it was clearly seen that on certain dates __Dec 14 2016, Jun 06 2016, May 01 2016, May 27 2016 and Aug 24 2016__ when the crime rates were touching __20 or 20+__. __December, and April__ was the months where it could seen that crimes are around __zero's on most of the days__.\n",
    "* This plot is more visible if you inspect it in new window.\n",
    "\n",
    "### Yearly Crimes Rate through line plot"
   ]
  },
  {
   "cell_type": "code",
   "execution_count": null,
   "id": "eb04a6b2",
   "metadata": {},
   "outputs": [],
   "source": [
    "%%R\n",
    "crimes_rate_yrly <- selected_races %>% group_by(INCIDENT_DATE) %>% summarize(count = n())\n",
    "crimes_rate_yrly$INCIDENT_DATE <- as.Date(crimes_rate_yrly$INCIDENT_DATE, format =  \"%m/%d/%Y\")\n",
    "names(crimes_rate_yrly)[names(crimes_rate_yrly) == \"INCIDENT_DATE\"] <- \"Date_Happened\"\n",
    "names(crimes_rate_yrly)[names(crimes_rate_yrly) == \"count\"] <- \"Total_Crimes\"\n",
    "\n",
    "smooth_line <- ggplot(crimes_rate_yrly, aes(x = Date_Happened, y = Total_Crimes)) +\n",
    "  geom_smooth(formula = y ~ x, method = \"lm\", color = \"red\") + labs(x=\"Months\", y= \"Incidents Count\", title=\"Incidents Tracking Through the year 2016 in Dellas\")\n",
    "  \n",
    "ggplotly(smooth_line, tooltip = c(\"Total_Crimes\"))"
   ]
  },
  {
   "cell_type": "code",
   "execution_count": null,
   "id": "d415c60c",
   "metadata": {},
   "outputs": [],
   "source": [
    "%%R\n",
    "line <- ggplot(crimes_rate_yrly, aes(x = Date_Happened, y = Total_Crimes)) +\n",
    "  geom_line() + labs(x=\"Months\", y= \"Incidents Count\", title=\"Incidents Tracking Through the year 2016 in Dellas\")\n",
    "ggplotly(line)"
   ]
  },
  {
   "cell_type": "code",
   "execution_count": null,
   "id": "16d4895c",
   "metadata": {
    "attributes": {
     "classes": [],
     "fig.height": "60,",
     "fig.width": "50",
     "id": ""
    }
   },
   "outputs": [],
   "source": [
    "## Animated Version\n",
    "animated_incidents <- ggplot(crimes_rate_yrly, aes(x = Date_Happened, y = Total_Crimes)) +\n",
    "    geom_line() +\n",
    "    geom_point() +\n",
    "    theme_ipsum() +\n",
    "    transition_reveal(Date_Happened)+\n",
    "    labs(x=\"Months\", y= \"Incidents Count\", title=\"Incidents Tracking Through the year 2016 in Dellas\")\n",
    "\n",
    "animate(animated_incidents, height = 461, width = 1050)"
   ]
  },
  {
   "cell_type": "markdown",
   "id": "943f633e",
   "metadata": {},
   "source": [
    "Drawn two differnet graphs to check how over the year incidents are decreasing. Where it was seen that the maximum crimes in a day happened in __October 2016__ where it even crosses __20 crimes and total of 24__ crimes happened. On different occasions different number of crimes happened but overall crimes ration was below average and it was seen that overall till the end of __2016 crimes__ were __decreasing__ with the significant numbers.\n",
    "\n",
    "\n",
    "### Incidents Happened in Different Divisions"
   ]
  },
  {
   "cell_type": "code",
   "execution_count": null,
   "id": "433ac63f",
   "metadata": {},
   "outputs": [],
   "source": [
    "%%R\n",
    "division_incidents <- as.data.frame(table(DIVISION, INCIDENT_DATE))\n",
    "division_incidents$INCIDENT_DATE <- as.Date(division_incidents$INCIDENT_DATE, format =  \"%m/%d/%Y\")\n",
    "names(division_incidents)[names(division_incidents) == \"INCIDENT_DATE\"] <- \"Date_Happened\"\n",
    "names(division_incidents)[names(division_incidents) == \"Freq\"] <- \"Total_Crimes\"\n",
    "\n",
    "division_incidents <- ggplot(division_incidents, aes(x = Date_Happened, y = Total_Crimes, group = 'Total_Crimes'))  + \n",
    "  geom_smooth(formula = y ~ x, method = \"lm\", color = \"red\") +\n",
    "  facet_wrap(~DIVISION,ncol=2) +\n",
    "  theme(legend.position=\"none\") + \n",
    "  labs(x=\"\", y= \"\", title=\"Incidents frequency in different divisions through lm\")\n",
    "\n",
    "ggplotly(division_incidents, tooltip = c(\"Total_Crimes\"))"
   ]
  },
  {
   "cell_type": "markdown",
   "id": "76a28fe5",
   "metadata": {},
   "source": [
    "### Incidents MAP of Divisions (Long, Lat)"
   ]
  },
  {
   "cell_type": "code",
   "execution_count": null,
   "id": "d4ec228b",
   "metadata": {},
   "outputs": [],
   "source": [
    "%%R\n",
    "division_incidents_count <- data.frame(table(LOCATION_LONGITUDE, LOCATION_LATITUDE, DIVISION)) %>% filter(Freq != 0)\n",
    "names(division_incidents_count)[names(division_incidents_count) == \"Freq\"] <- \"Total_Crimes\"\n",
    "division_incidents_count <- division_incidents_count[-1,]\n",
    "incidents_map_division <- ggplot(division_incidents_count, aes(x = LOCATION_LONGITUDE, y = LOCATION_LATITUDE, size = Total_Crimes, color = DIVISION, shape = DIVISION)) + geom_point(size = 2) + scale_shape_manual(values = 0:7) + theme(axis.title.y=element_blank(),axis.text.y=element_blank(), axis.ticks.y=element_blank(),axis.title.x=element_blank(),axis.text.x=element_blank(), axis.ticks.x=element_blank()) + \n",
    "  labs(x=\"\", y= \"\", title=\"Incidents in different divisions\")\n",
    "\n",
    "ggplotly(incidents_map_division, tooltip = c(\"DIVISION\", \"Total_Crimes\"))"
   ]
  },
  {
   "cell_type": "code",
   "execution_count": null,
   "id": "a845ec8b",
   "metadata": {},
   "outputs": [],
   "source": [
    "%%R\n",
    "ggplot(as.data.frame(table(DIVISION, INCIDENT_DATE)) %>%group_by(DIVISION) %>% \n",
    "        summarise(Frequency = sum(Freq)), aes(area = Frequency, fill = DIVISION, label = paste(DIVISION, Frequency, sep = \"\\n\"))) +\n",
    "  geom_treemap() +\n",
    "  geom_treemap_text(colour = \"white\",\n",
    "                    place = \"centre\",\n",
    "                    size = 15)"
   ]
  },
  {
   "cell_type": "code",
   "execution_count": null,
   "id": "3cf54da0",
   "metadata": {},
   "outputs": [],
   "source": [
    "%%R\n",
    "leaflet() %>% addTiles() %>% addCircleMarkers(data=division_incidents_count, \n",
    "          lat = as.numeric(LOCATION_LATITUDE), lng = as.numeric(LOCATION_LONGITUDE), radius = ~Total_Crimes, \n",
    "          fillColor = 'darkBlue', fillOpacity = 0.6, label = ~Total_Crimes)"
   ]
  },
  {
   "cell_type": "markdown",
   "id": "62f083c7",
   "metadata": {},
   "source": [
    "Crimes happened in the whole dellas was shown out through the map to see which area got affected most. It was seen that __Central area__ of Dellas was on top with the most crime of __563__ and then __SouthEast__ area was second highest with most crimes of __362__. And it was clearly seen that overall crimes are __decreasing__ in all the divisions but __2 divions__ are still constant where __Central and NorthEast__ was on top.\n",
    "*This graph is viewable from the viewer section if we run it through console.\n",
    "\n",
    "#### Officers Got Injured and Bruises"
   ]
  },
  {
   "cell_type": "code",
   "execution_count": null,
   "id": "2af18abb",
   "metadata": {},
   "outputs": [],
   "source": [
    "%%R\n",
    "hsize <- 3\n",
    "\n",
    "o_injuries <- ggplot(as.data.frame(table(OFFICER_INJURY)), aes(x = hsize, y = Freq, fill = OFFICER_INJURY)) +\n",
    "  geom_col() +\n",
    "  geom_label(aes(label = Freq),\n",
    "             position = position_stack(vjust = 0.5),\n",
    "             show.legend = FALSE) +\n",
    "  coord_polar(theta = \"y\") +\n",
    "  xlim(c(0.2, hsize + 0.5)) + guides(fill = guide_legend(title = \"Officers Got Injured\")) + labs(title = \"Injured/Not Injured (Yes/No)\", x = \"\", y = \"\")\n",
    "\n",
    "s_injuries <- ggplot(as.data.frame(table(SUBJECT_INJURY)), aes(x = hsize, y = Freq, fill = SUBJECT_INJURY)) +\n",
    "  geom_col() +\n",
    "  geom_label(aes(label = Freq),\n",
    "             position = position_stack(vjust = 0.5),\n",
    "             show.legend = FALSE) +\n",
    "  coord_polar(theta = \"y\") +\n",
    "  xlim(c(0.2, hsize + 0.5)) + guides(fill = guide_legend(title = \"Officers Got Injured\")) + labs(title = \"Count?\", x = \"\", y = \"\")\n",
    "\n",
    "ggarrange(o_injuries, s_injuries, labels = c(\"Officers Injured\", \"Subjects Injured\"),ncol = 2, nrow = 1)\n"
   ]
  },
  {
   "cell_type": "code",
   "execution_count": null,
   "id": "78d239d4",
   "metadata": {},
   "outputs": [],
   "source": [
    "%%R\n",
    "mostly_injuries_count <- as.data.frame(table(policing_data %>% filter(OFFICER_INJURY == \"Yes\") %>% select(OFFICER_INJURY_TYPE))) %>% filter(Freq > 5)\n",
    "names(mostly_injuries_count)[names(mostly_injuries_count) == \"Var1\"] <- \"Injury\"\n",
    "names(mostly_injuries_count)[names(mostly_injuries_count) == \"Freq\"] <- \"Total_Officers\"\n",
    "\n",
    "officers_bruises <- ggplot(mostly_injuries_count, aes(x = Injury, y = Total_Officers)) +\n",
    "  geom_segment(aes(x = Injury, xend = Injury, y = 0, yend = Total_Officers)) +\n",
    "  geom_point(size = 4, pch = 21, bg = 4, col = 1) +\n",
    "  coord_flip() + labs(title = \"Officers mostly injuries?\", x = \"Injuries Types\", y = \"Officers Count\")\n",
    "\n",
    "ggplotly(officers_bruises)"
   ]
  },
  {
   "cell_type": "code",
   "execution_count": null,
   "id": "12400f5a",
   "metadata": {},
   "outputs": [],
   "source": [
    "%%R\n",
    "s_mostly_injuries_count <- as.data.frame(table(policing_data %>% filter(SUBJECT_INJURY == \"Yes\") %>% select(SUBJECT_INJURY_TYPE))) %>% filter(Freq > 5)\n",
    "names(s_mostly_injuries_count)[names(s_mostly_injuries_count) == \"Var1\"] <- \"Injury\"\n",
    "names(s_mostly_injuries_count)[names(s_mostly_injuries_count) == \"Freq\"] <- \"Subjects\"\n",
    "\n",
    "subjects_bruises <- ggplot(s_mostly_injuries_count, aes(x = Injury, y = Subjects)) +\n",
    "  geom_segment(aes(x = Injury, xend = Injury, y = 0, yend = Subjects)) +\n",
    "  geom_point(size = 4, pch = 21, bg = 4, col = 1) +\n",
    "  coord_flip() + labs(title = \"Subjects mostly injuries?\", x = \"Injuries Types\", y = \"Subjects Count\")\n",
    "\n",
    "ggplotly(subjects_bruises)"
   ]
  },
  {
   "cell_type": "markdown",
   "id": "ef35e4b0",
   "metadata": {},
   "source": [
    "It was clearly seen that not most of the officers got injured during different crimes but __234 got injured__ about where they got mostly two types of scrapes from __Abrasion/Scrape to No Visible Injury__. In case of Subjects those got injured more __629 totally__ and and they also got __Abrasion/Scrape, Laceration/Cut and Puncture__ around __189, 52, 24__ respectively out of the totall subjects caught.\n",
    "\n",
    "\n",
    "### Officers on force from their joining"
   ]
  },
  {
   "cell_type": "code",
   "execution_count": null,
   "id": "24edae98",
   "metadata": {},
   "outputs": [],
   "source": [
    "%%R\n",
    "## so on average I am checking which racial officers are there in their force and working from long time.\n",
    "hsize <- 4\n",
    "force_duration <- policing_data %>% group_by(OFFICER_RACE) %>% summarise(Average = mean(as.numeric(OFFICER_YEARS_ON_FORCE)))\n",
    "average_time_onforce <- ggplot(force_duration, aes(x = hsize, y = Average, fill = OFFICER_RACE)) +\n",
    "  geom_col(color = \"black\") +\n",
    "  geom_label(aes(label = round(Average,2)),\n",
    "             position = position_stack(vjust = 0.5),\n",
    "             show.legend = FALSE) +\n",
    "  coord_polar(theta = \"y\") +\n",
    "  xlim(c(0.2, hsize + 0.5)) + labs(title = \"Officers Tenures Period Races Wise on average?\", x = \"\", y = \"\")\n",
    "\n",
    "average_time_onforce"
   ]
  },
  {
   "cell_type": "code",
   "execution_count": null,
   "id": "d3089cb3",
   "metadata": {},
   "outputs": [],
   "source": [
    "%%R\n",
    "fig <- force_duration %>% plot_ly(labels = ~OFFICER_RACE, values = ~Average)\n",
    "\n",
    "fig <- fig %>% add_pie(hole = 0.8)\n",
    "\n",
    "fig <- fig %>% layout(title = \"Officers Tenures Period Races Wise on average?\",\n",
    "\n",
    "                      xaxis = list(showgrid = FALSE, zeroline = FALSE, showticklabels = FALSE),\n",
    "\n",
    "                      yaxis = list(showgrid = FALSE, zeroline = FALSE, showticklabels = FALSE))\n",
    "\n",
    "fig"
   ]
  },
  {
   "cell_type": "markdown",
   "id": "417c5e1d",
   "metadata": {},
   "source": [
    "### Subjects Offenses they have made"
   ]
  },
  {
   "cell_type": "code",
   "execution_count": null,
   "id": "9dde579e",
   "metadata": {},
   "outputs": [],
   "source": [
    "%%R\n",
    "offense_if_arrested <- as.data.frame(table(policing_data %>% filter(SUBJECT_WAS_ARRESTED == \"Yes\") %>% select(SUBJECT_OFFENSE))) %>% filter(Freq > 10)\n",
    "names(offense_if_arrested)[names(offense_if_arrested) == \"Var1\"] <- \"Offense\"\n",
    "names(offense_if_arrested)[names(offense_if_arrested) == \"Freq\"] <- \"Subjects\"\n",
    "\n",
    "offense_if_arrested <- ggplot(offense_if_arrested, aes(x = Offense, y = Subjects)) +\n",
    "  geom_segment(aes(x = Offense, xend = Offense, y = 0, yend = Subjects)) +\n",
    "  geom_point(size = 4, pch = 21, bg = 4, col = 1) +\n",
    "  coord_flip() + labs(title = \"Subjects mostly Offenses?\", x = \"Offenses Types\", y = \"Subjects Count\")\n",
    "\n",
    "ggplotly(offense_if_arrested)"
   ]
  },
  {
   "cell_type": "markdown",
   "id": "b0b32aa1",
   "metadata": {},
   "source": [
    "Checking the top 10 most happening offenses by the subjects where __APOWW, Publix Intoxication, Warrant/Hold or Assault/FV__ was the most happening offenses with __399, 179, 110, and 92__ numbers recorded accordingly. In the data it is shown that there is total of 6 types of forces used where mostly just upto force type 3 were used but then it was stopped. \n",
    "\n",
    "\n",
    "## Conclusion:\n",
    "It is concluded through the data that mostly crimes were happened by the subjects Black and Hispanic. Mostly White officers were in actions and caught those Black subjects. Officers of type Black and White were on top in their force years tenure. Overall crimes were decreasing throughout the year till the end of 2016 and most of the crimes has happened in the Central area of the Dellas. Subjects were got injured more than officers where they committed APOWW and Intoxication offense alot while Officers got Abrasion/Scrape alot.\n",
    "\n",
    "## References:\n",
    "* https://plotly.com/r/\n",
    "* https://r-charts.com/ggplot2/"
   ]
  }
 ],
 "metadata": {},
 "nbformat": 4,
 "nbformat_minor": 5
}
